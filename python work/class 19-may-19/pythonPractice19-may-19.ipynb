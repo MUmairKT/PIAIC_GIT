{
 "cells": [
  {
   "cell_type": "code",
   "execution_count": 2,
   "metadata": {
    "scrolled": true
   },
   "outputs": [
    {
     "name": "stdout",
     "output_type": "stream",
     "text": [
      "hello\n"
     ]
    }
   ],
   "source": [
    "print('hello')"
   ]
  },
  {
   "cell_type": "code",
   "execution_count": 3,
   "metadata": {},
   "outputs": [
    {
     "data": {
      "text/plain": [
       "89.82857142857144"
      ]
     },
     "execution_count": 3,
     "metadata": {},
     "output_type": "execute_result"
    }
   ],
   "source": [
    "3+5*3**2/7-1+12*4*(8-5**2/4)/6*4+2**4+2/5+3**2\n"
   ]
  },
  {
   "cell_type": "code",
   "execution_count": 4,
   "metadata": {},
   "outputs": [
    {
     "name": "stdout",
     "output_type": "stream",
     "text": [
      "Enter your nameumair kt\n",
      "umair kt\n"
     ]
    }
   ],
   "source": [
    "nme = input('Enter your name')\n",
    "print(nme)"
   ]
  },
  {
   "cell_type": "code",
   "execution_count": 5,
   "metadata": {},
   "outputs": [
    {
     "name": "stdout",
     "output_type": "stream",
     "text": [
      "Enter your namekt\n",
      "hello kt\n"
     ]
    }
   ],
   "source": [
    "nme = input('Enter your name')\n",
    "print('hello '+nme)"
   ]
  },
  {
   "cell_type": "raw",
   "metadata": {},
   "source": [
    "str = \"\"\" this is a \n",
    "testing \n",
    "string \n",
    "of multiline string \n",
    "\"\"\"\n",
    "print(str)"
   ]
  },
  {
   "cell_type": "code",
   "execution_count": 6,
   "metadata": {},
   "outputs": [
    {
     "name": "stdout",
     "output_type": "stream",
     "text": [
      " this is a \n",
      "testing \n",
      "string \n",
      "of multiline string \n"
     ]
    }
   ],
   "source": [
    "strn = \"\"\" this is a \n",
    "testing \n",
    "string \n",
    "of multiline string \"\"\"\n",
    "print(strn)\n"
   ]
  },
  {
   "cell_type": "code",
   "execution_count": 7,
   "metadata": {},
   "outputs": [],
   "source": [
    "print?\n"
   ]
  },
  {
   "cell_type": "code",
   "execution_count": 8,
   "metadata": {},
   "outputs": [],
   "source": [
    "print??"
   ]
  },
  {
   "cell_type": "code",
   "execution_count": 9,
   "metadata": {},
   "outputs": [],
   "source": [
    "print??"
   ]
  },
  {
   "cell_type": "code",
   "execution_count": 10,
   "metadata": {},
   "outputs": [
    {
     "data": {
      "text/plain": [
       "' this is a \\ntesting umair \\nstring umair\\nof multiline string '"
      ]
     },
     "execution_count": 10,
     "metadata": {},
     "output_type": "execute_result"
    }
   ],
   "source": [
    "name =\"umair\"\n",
    "strn = \"\"\" this is a \n",
    "testing {} \n",
    "string {}\n",
    "of multiline string \"\"\"\n",
    "strn.format(name,name)"
   ]
  },
  {
   "cell_type": "code",
   "execution_count": 11,
   "metadata": {},
   "outputs": [
    {
     "ename": "SyntaxError",
     "evalue": "unexpected EOF while parsing (<ipython-input-11-9fd4128418de>, line 2)",
     "output_type": "error",
     "traceback": [
      "\u001b[1;36m  File \u001b[1;32m\"<ipython-input-11-9fd4128418de>\"\u001b[1;36m, line \u001b[1;32m2\u001b[0m\n\u001b[1;33m    print(int(strng)\u001b[0m\n\u001b[1;37m                    ^\u001b[0m\n\u001b[1;31mSyntaxError\u001b[0m\u001b[1;31m:\u001b[0m unexpected EOF while parsing\n"
     ]
    }
   ],
   "source": [
    "strng = \"45.6\"\n",
    "print(int(strng)"
   ]
  },
  {
   "cell_type": "code",
   "execution_count": 13,
   "metadata": {},
   "outputs": [
    {
     "ename": "SyntaxError",
     "evalue": "unexpected EOF while parsing (<ipython-input-13-729724f4de12>, line 2)",
     "output_type": "error",
     "traceback": [
      "\u001b[1;36m  File \u001b[1;32m\"<ipython-input-13-729724f4de12>\"\u001b[1;36m, line \u001b[1;32m2\u001b[0m\n\u001b[1;33m    print(float(strng)\u001b[0m\n\u001b[1;37m                      ^\u001b[0m\n\u001b[1;31mSyntaxError\u001b[0m\u001b[1;31m:\u001b[0m unexpected EOF while parsing\n"
     ]
    }
   ],
   "source": [
    "strng = \"45.6\"\n",
    "print(float(strng)"
   ]
  },
  {
   "cell_type": "code",
   "execution_count": 14,
   "metadata": {},
   "outputs": [],
   "source": [
    "int?\n"
   ]
  },
  {
   "cell_type": "code",
   "execution_count": 15,
   "metadata": {},
   "outputs": [
    {
     "ename": "ValueError",
     "evalue": "invalid literal for int() with base 10: '45.6'",
     "output_type": "error",
     "traceback": [
      "\u001b[1;31m---------------------------------------------------------------------------\u001b[0m",
      "\u001b[1;31mValueError\u001b[0m                                Traceback (most recent call last)",
      "\u001b[1;32m<ipython-input-15-7ecf47551079>\u001b[0m in \u001b[0;36m<module>\u001b[1;34m\u001b[0m\n\u001b[0;32m      1\u001b[0m \u001b[0mstrng\u001b[0m \u001b[1;33m=\u001b[0m \u001b[1;34m\"45.6\"\u001b[0m\u001b[1;33m\u001b[0m\u001b[1;33m\u001b[0m\u001b[0m\n\u001b[1;32m----> 2\u001b[1;33m \u001b[0mprint\u001b[0m\u001b[1;33m(\u001b[0m\u001b[0mint\u001b[0m\u001b[1;33m(\u001b[0m\u001b[0mstrng\u001b[0m\u001b[1;33m,\u001b[0m\u001b[1;36m10\u001b[0m\u001b[1;33m)\u001b[0m\u001b[1;33m)\u001b[0m\u001b[1;33m\u001b[0m\u001b[1;33m\u001b[0m\u001b[0m\n\u001b[0m",
      "\u001b[1;31mValueError\u001b[0m: invalid literal for int() with base 10: '45.6'"
     ]
    }
   ],
   "source": [
    "strng = \"45.6\"\n",
    "print(int(strng,10))"
   ]
  },
  {
   "cell_type": "code",
   "execution_count": 16,
   "metadata": {},
   "outputs": [
    {
     "name": "stdout",
     "output_type": "stream",
     "text": [
      "10\n"
     ]
    }
   ],
   "source": [
    "st = \"10\"\n",
    "num = int(st,10)\n",
    "print(num)"
   ]
  },
  {
   "cell_type": "code",
   "execution_count": 17,
   "metadata": {},
   "outputs": [
    {
     "name": "stdout",
     "output_type": "stream",
     "text": [
      "10\n"
     ]
    }
   ],
   "source": [
    "st = \"10\"\n",
    "print(int(st,10))"
   ]
  },
  {
   "cell_type": "code",
   "execution_count": 26,
   "metadata": {},
   "outputs": [
    {
     "name": "stdout",
     "output_type": "stream",
     "text": [
      "Marks Calculation \n",
      "Enter your name :Umairkt\n",
      "Enter english Marks :75\n",
      "Enter english Marks :65\n",
      "Enter english Marks :35\n",
      "Enter english Marks :48\n",
      "Enter english Marks :86\n",
      " \n",
      "    ****************** Marks Sheet ***************\n",
      "    Name : Umairkt\n",
      "    Marks Obtain  : 309  out of  500\n",
      "    Percentage : 61.8\n",
      "    Grade : B    \n",
      "    \n",
      "\n"
     ]
    }
   ],
   "source": [
    "print(\"Marks Calculation \")\n",
    "stName=  input(\"Enter your name :\")\n",
    "english = int(input(\"Enter english Marks :\"),10)\n",
    "urdu = int(input(\"Enter english Marks :\"),10)\n",
    "maths = int(input(\"Enter english Marks :\"),10)\n",
    "science = int(input(\"Enter english Marks :\"),10)\n",
    "computer = int(input(\"Enter english Marks :\"),10)\n",
    "obtMarks = english+urdu+maths+science+computer\n",
    "percentage = obtMarks/500*100\n",
    "grade = \"\"\n",
    "if percentage > 80:\n",
    "    grade = \"A\"\n",
    "elif percentage > 60:\n",
    "    grade = \"B\"\n",
    "elif percentage > 50:\n",
    "    grade = \"C\"\n",
    "elif percentage > 40:\n",
    "    grade = \"D\"\n",
    "elif percentage >= 35:\n",
    "    grade = \"E\"\n",
    "elif percentage < 35:\n",
    "    grade = \"F\"\n",
    "else :\n",
    "    grade = \"Null\"\n",
    "\n",
    "print((\"\"\" \n",
    "    ****************** Marks Sheet ***************\n",
    "    Name : {}\n",
    "    Marks Obtain  : {}  out of  {}\n",
    "    Percentage : {}\n",
    "    Grade : {}    \n",
    "    \n",
    "\"\"\").format(stName,obtMarks,\"500\",percentage,grade))\n",
    "\n"
   ]
  },
  {
   "cell_type": "code",
   "execution_count": 33,
   "metadata": {},
   "outputs": [
    {
     "name": "stdout",
     "output_type": "stream",
     "text": [
      "{24.5, 'n1', 2}\n"
     ]
    }
   ],
   "source": [
    "strAry =[]\n",
    "strAry.append({\"n1\",2,24.5})\n",
    "strAry.append(\"n1\")\n",
    "strAry.append(5)\n",
    "strAry.append(20.4)\n",
    "print(strAry[0])"
   ]
  },
  {
   "cell_type": "markdown",
   "metadata": {},
   "source": [
    "# This is Heading "
   ]
  },
  {
   "cell_type": "code",
   "execution_count": null,
   "metadata": {},
   "outputs": [],
   "source": []
  }
 ],
 "metadata": {
  "kernelspec": {
   "display_name": "Python 3",
   "language": "python",
   "name": "python3"
  },
  "language_info": {
   "codemirror_mode": {
    "name": "ipython",
    "version": 3
   },
   "file_extension": ".py",
   "mimetype": "text/x-python",
   "name": "python",
   "nbconvert_exporter": "python",
   "pygments_lexer": "ipython3",
   "version": "3.7.3"
  }
 },
 "nbformat": 4,
 "nbformat_minor": 2
}
